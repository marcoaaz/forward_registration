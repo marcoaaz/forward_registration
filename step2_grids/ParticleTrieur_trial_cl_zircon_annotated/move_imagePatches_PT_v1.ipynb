{
 "cells": [
  {
   "cell_type": "code",
   "execution_count": null,
   "metadata": {},
   "outputs": [],
   "source": [
    "'''\n",
    "\n",
    "'move_imagePatches_PT_v1.ipynb'\n",
    "\n",
    "Script to copy unlabelled PT patches from the 45K collection to a 'selected_images' folder. \n",
    "A table is read for subsetting required patches (from/to a new path).\n",
    "\n",
    "Created: 1-Feb-25, Marco Acevedo\n",
    "Updated: \n",
    "\n",
    "'''"
   ]
  },
  {
   "cell_type": "code",
   "execution_count": 3,
   "metadata": {},
   "outputs": [],
   "source": [
    "import os\n",
    "import shutil\n",
    "import random\n",
    "from pathlib import Path\n",
    "\n",
    "import cv2\n",
    "import matplotlib.pyplot as plt\n",
    "import numpy as np\n",
    "import onnx\n",
    "import pandas as pd\n",
    "import skimage.io\n",
    "from PIL import Image\n",
    "from tqdm import tqdm\n",
    "\n",
    "def remove(path):\n",
    "    \"\"\" param <path> could either be relative or absolute. \"\"\"\n",
    "    if os.path.isfile(path) or os.path.islink(path):\n",
    "        os.remove(path)  # remove the file\n",
    "    elif os.path.isdir(path):\n",
    "        shutil.rmtree(path)  # remove dir and all contains\n",
    "    else:\n",
    "        raise ValueError(\"file {} is not a file or dir.\".format(path))\n",
    "\n",
    "def mkdir2(destDir_parent):    \n",
    "    if not os.path.exists(destDir_parent):\n",
    "        try:\n",
    "            os.mkdir(destDir_parent)\n",
    "        except:\n",
    "            print(f\"Folder already existed. Now clearing..\")            \n",
    "            remove(destDir_parent)\n",
    "            os.mkdir(destDir_parent)\n"
   ]
  },
  {
   "cell_type": "code",
   "execution_count": 21,
   "metadata": {},
   "outputs": [],
   "source": [
    "#input table with paths\n",
    "file1 = r\"E:\\Feb-March_2024_zircon imaging\\05_zircon geochemical data\\processed_files\\requested_masterTable.xlsx\"\n",
    "#folder with PT project image patches (from prototype 1 segmentation workflow)\n",
    "folder = r\"E:\\Feb-March_2024_zircon imaging\\cl_zircon_twoCorrections\\originals_fixed\\input_v5\\Segmented images\"\n",
    "\n",
    "#destination file\n",
    "path1 = os.path.dirname(file1)\n",
    "path2 = os.path.join(path1, 'selected_patches')\n",
    "mkdir2(path2)\n"
   ]
  },
  {
   "cell_type": "code",
   "execution_count": 22,
   "metadata": {},
   "outputs": [
    {
     "name": "stdout",
     "output_type": "stream",
     "text": [
      "E:\\Feb-March_2024_zircon imaging\\cl_zircon_twoCorrections\\originals_fixed\\input_v5\\Segmented images\\ECU_937_938_CL\\ECU_937_938_CL_inverted_10_[x=4697,y=918,w=183,h=326].tif\n"
     ]
    }
   ],
   "source": [
    "table1 = pd.read_excel(file1) #master table\n",
    "classification = table1[\"PT_classification\"]\n",
    "\n",
    "table2 = table1[classification.isin({'none'})]\n",
    "file_paths = table2[\"file_paths\"]\n",
    "basenames_list = file_paths.apply(os.path.basename).to_list() #patch\n",
    "\n",
    "old_path = file_paths.apply(os.path.dirname) \n",
    "folder_list = old_path.apply(os.path.basename).to_list() #sample\n",
    "\n",
    "path_list = []\n",
    "for i in range(0, len(basenames_list)):\n",
    "    path_temp = os.path.join(folder, folder_list[i], basenames_list[i])\n",
    "    path_list.append(path_temp)\n",
    "\n",
    "# #info\n",
    "# a = table2.shape[0]\n",
    "# print(f\"Table 2 has {a} rows\")\n",
    "# table2.head()\n",
    "\n",
    "print(path_list[0])\n"
   ]
  },
  {
   "cell_type": "code",
   "execution_count": 23,
   "metadata": {},
   "outputs": [],
   "source": [
    "for file_path, basename in zip(path_list, basenames_list):\n",
    "    src = file_path\n",
    "    dst = os.path.join(path2, basename)\n",
    "    \n",
    "    shutil.copyfile(src, dst)"
   ]
  }
 ],
 "metadata": {
  "kernelspec": {
   "display_name": "Python 3",
   "language": "python",
   "name": "python3"
  },
  "language_info": {
   "codemirror_mode": {
    "name": "ipython",
    "version": 3
   },
   "file_extension": ".py",
   "mimetype": "text/x-python",
   "name": "python",
   "nbconvert_exporter": "python",
   "pygments_lexer": "ipython3",
   "version": "3.9.20"
  }
 },
 "nbformat": 4,
 "nbformat_minor": 2
}
